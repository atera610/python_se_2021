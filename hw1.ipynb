{
 "cells": [
  {
   "cell_type": "code",
   "execution_count": null,
   "metadata": {
    "collapsed": true,
    "pycharm": {
     "name": "#%%\n"
    }
   },
   "outputs": [],
   "source": []
  },
  {
   "cell_type": "markdown",
   "source": [
    "#### 1. Списки (2 балла)\n",
    "\n",
    "  * `remove_adjacent` (0.5 балла)\n",
    "\n",
    "     Функция принимает на вход список чисел.\n",
    "\n",
    "     Возвращает новый список, равный исходному, если бы из него удалили одинаковые смежные числа.\n",
    "\n",
    "  * `linear_merge` (0.5 балл)\n",
    "\n",
    "     Напишите функцию, которая объединияет два отсортированных списка в один за линейное время.\n",
    "\n",
    "  * Правильная скобочная последовательность (1 балл)\n",
    "\n",
    "     Заметим, что добавление (`append`) и удаление (`pop`) в/из конец списка работают за `O(1)`,\n",
    "     поскольку список реализован как массив переменного размера. Это позволяет использовать список\n",
    "     в качестве стека эффективно.\n",
    "\n",
    "     Реализуйте проверку корректности скобочной последовательности (задача 1 пункта 2.1 из курса алгоритмов)\n",
    "     с помощью списка.\n",
    "\n",
    "     Скобки могут быть следующими: `(`, `)`, `[`, `]`, `{`, `}`.\n"
   ],
   "metadata": {
    "collapsed": false
   }
  },
  {
   "cell_type": "code",
   "execution_count": 6,
   "outputs": [
    {
     "name": "stdout",
     "output_type": "stream",
     "text": [
      "True\n"
     ]
    }
   ],
   "source": [
    "def remove_adjacent(array):\n",
    "    new_list = []\n",
    "    for el in array:\n",
    "        if new_list and el == new_list[-1]:\n",
    "            continue\n",
    "    new_list.append(el)\n",
    "    return new_list\n",
    "\n",
    "def linear_merge(first, second):\n",
    "    first_ind, second_ind = 0\n",
    "    result = []\n",
    "    while first_ind < len(first) and second_ind < len(second):\n",
    "        if first[first_ind] <= second[second_ind]:\n",
    "            result.append(first[first_ind])\n",
    "            first_ind += 1\n",
    "        else:\n",
    "            result.append(second[second_ind])\n",
    "            second_ind += 1\n",
    "    result.extend(first[first_ind:])\n",
    "    result.extend(second[second_ind:])\n",
    "\n",
    "def braces_sequence(string):\n",
    "    braces = {'(': ')', '[': ']', '{': '}'}\n",
    "    stack = []\n",
    "    for char in string:\n",
    "        if char in braces:\n",
    "            stack.append(char)\n",
    "            continue\n",
    "        if not stack:\n",
    "            return False\n",
    "        if braces[stack.pop()] != char:\n",
    "            return False\n",
    "    if len(stack) != 0:\n",
    "        return False\n",
    "    return True"
   ],
   "metadata": {
    "collapsed": false,
    "pycharm": {
     "name": "#%%\n"
    }
   }
  },
  {
   "cell_type": "markdown",
   "source": [
    "#### 2. Строки (1 балл)\n",
    "\n",
    "  * `verbing` (0.5 балла)\n",
    "\n",
    "     Дана строка.\n",
    "\n",
    "     Если ее длина по крайней мере 3, добавьте в конец 'ing', кроме случая,\n",
    "     когда строка уже заканчивается на 'ing'. В этом случае добавьте в конец 'ly' вместо 'ing'.\n",
    "\n",
    "     Если длина стркои меньше 3, верните ее неизменной.\n",
    "\n",
    "     Функция возвращает строку-результат.\n",
    "\n",
    "  * `not_bad` (0.5 балла)\n",
    "\n",
    "     Дана строка, найдите первые вхождения подстрок `not` и `bad`.\n",
    "\n",
    "     Если `bad` следует за `not`, замените всю подстроку `not ... bad` строкой `good`, иначе оставьте строку\n",
    "     неизменной. Функция возвращает строку-результат.\n",
    "\n"
   ],
   "metadata": {
    "collapsed": false
   }
  },
  {
   "cell_type": "code",
   "execution_count": 15,
   "outputs": [
    {
     "name": "stdout",
     "output_type": "stream",
     "text": [
      "Oh, that is good\n"
     ]
    }
   ],
   "source": [
    "def verbing(string):\n",
    "    if len(string) < 3:\n",
    "        return string\n",
    "    if string[-3:] == 'ing':\n",
    "        return string[:-3] + 'ly'\n",
    "    return string + 'ing'\n",
    "\n",
    "def not_bad(string):\n",
    "    not_ind = string.find('not')\n",
    "    bad_ind = string.find('bad')\n",
    "    if bad_ind > not_ind > -1:\n",
    "        return string[:not_ind] + 'good' + string[bad_ind + 3:]\n",
    "    return string\n",
    "\n",
    "print(not_bad(\"Oh, that is not so bad\" ))"
   ],
   "metadata": {
    "collapsed": false,
    "pycharm": {
     "name": "#%%\n"
    }
   }
  },
  {
   "cell_type": "markdown",
   "source": [
    "#### 3. Словарь (1.5 балла)\n",
    "\n",
    "В наших руках оказался англо-латинский словарь, то есть список слов на английском языке и их переводы на латинский язык\n",
    "(переводов может быть несколько) в виде файла с таким содержимым:\n",
    "\n",
    "    apple - malum, pomum, popula\n",
    "    fruit - baca, bacca, popum\n",
    "    punishment - malum, multa\n",
    "\n",
    "Необходимо написать скрипт, считывающий словарь из переданных файлов и создающий\n",
    "из словаря латино-английский. Результат должен быть выведен на экран.\n",
    "\n",
    "Так для строки, описанной выше, на экран должно быть выведено:\n",
    "\n",
    "    baca - fruit\n",
    "    bacca - fruit\n",
    "    malum - apple, punishment\n",
    "    multa - punishment\n",
    "    pomum - apple\n",
    "    popula - apple\n",
    "    popum - fruit\n",
    "\n",
    "В случае, если разные файлы содержат разные переводы для одинаковых слов,\n",
    "множества переводов необходимо объединить, оставив только уникальные слова.\n",
    "\n"
   ],
   "metadata": {
    "collapsed": false
   }
  },
  {
   "cell_type": "code",
   "execution_count": 36,
   "outputs": [
    {
     "name": "stdout",
     "output_type": "stream",
     "text": [
      "baca - fruit\n",
      "bacca - fruit\n",
      "malum - apple, punishment\n",
      "multa - punishment\n",
      "pomum - apple\n",
      "popula - apple\n",
      "popum - fruit\n"
     ]
    }
   ],
   "source": [
    "import sys\n",
    "\n",
    "\n",
    "def parse_dict(text):\n",
    "    lines = text.strip().split(\"\\n\")\n",
    "    dictionary = {}\n",
    "    for line in lines:\n",
    "        eng, latin = line.strip().split(\"-\")\n",
    "        dictionary[eng.strip()] = latin.strip().split(\", \")\n",
    "    return dictionary\n",
    "\n",
    "def create_dictionary(eng_to_latin):\n",
    "    new_dict = {}\n",
    "    for eng, latin_list in eng_to_latin.items():\n",
    "        for word in latin_list:\n",
    "            if word in new_dict:\n",
    "                new_dict[word].append(eng)\n",
    "            else:\n",
    "                new_dict[word] = [eng]\n",
    "\n",
    "    for latin, eng_list in new_dict.items():\n",
    "        new_dict[latin] = \", \".join(new_dict[latin])\n",
    "\n",
    "    return new_dict\n",
    "\n",
    "def print_dict(dictionary):\n",
    "    for key in sorted(dictionary.keys()):\n",
    "        print(f\"{key} - {dictionary[key]}\")\n",
    "\n",
    "# filenames = sys.argv[1:]\n",
    "filenames = [\"dict_hw1.txt\"]\n",
    "eng_dict = {}\n",
    "for filename in filenames:\n",
    "    with open(filename, 'r') as file:\n",
    "        eng_dict.update(parse_dict(file.read()))\n",
    "\n",
    "latin_eng = create_dictionary(eng_dict)\n",
    "print_dict(latin_eng)"
   ],
   "metadata": {
    "collapsed": false,
    "pycharm": {
     "name": "#%%\n"
    }
   }
  },
  {
   "cell_type": "markdown",
   "source": [
    "#### 4. И, конечно, матрицы (2 балла)\n",
    "\n",
    "  * `matrix_product` (1 балл)\n",
    "\n",
    "    Написать функцию, вычисляющую произведение двух матриц (матрица -- список списков).\n",
    "    Если матрицы нельзя перемножить, сгенерировать исключение.\n",
    "\n",
    "  * `matrix_pretty_print` (1 балл)\n",
    "\n",
    "    Функция печатает переданную матрицу в красивом виде.\n",
    "    Формат вывода определяется вами самостоятельно, степень его красоты определяется преподавателем и отражается на ваших баллах.\n",
    "    Пример красивого формата:\n",
    "\n",
    "    ```\n",
    "    >>> matrix_pretty_print([[11, -4, 6, 123], [12, -9, 2, 5]])\n",
    "    -------------------------\n",
    "    |  11 |  -4 |   6 | 123 |\n",
    "    -------------------------\n",
    "    |  12 |  -9 |   2 |   5 |\n",
    "    -------------------------\n",
    "    ```\n",
    "\n",
    "    Для простоты можете считать, что числа состоят не более, чем из 3 цифр."
   ],
   "metadata": {
    "collapsed": false
   }
  },
  {
   "cell_type": "code",
   "execution_count": null,
   "outputs": [],
   "source": [
    "def matrix_product(m1, m2):\n",
    "    if not m1 or not m2:\n",
    "        return []\n",
    "    if len(m1[0]) != len(m2):\n",
    "        raise ValueError(\"Can not multiply matrices: first matrix column count should be equal to second matrix row count\")\n",
    "    res = []\n",
    "    c, n, k = len(m1), len(m1[0]), len(m2[0])\n",
    "    for i in range(c):\n",
    "        res.append([])\n",
    "        for j in range(k):\n",
    "            # генераторное выражение. Ну тип как стримы.\n",
    "            res[-1].append(sum(m1[i][l] * m2[l][j] for l in range(n)))\n",
    "    return res\n",
    "\n",
    "def matrix_pretty_print(matrix):\n",
    "    row_presentation_length = (len(matrix[0]) * 7) + 1\n",
    "    for row in range(0, len(matrix)):\n",
    "        print(f\"{'-' * row_presentation_length}\")\n",
    "        print(\"|\", end=\"\")\n",
    "        for column in range(0, len(matrix[0])):\n",
    "            value = matrix[row][column]\n",
    "            if value <= -100:\n",
    "                print(f\" {value} |\", end=\"\")\n",
    "            elif value >= 100 or value <= -10:\n",
    "                print(f\"  {value} |\", end=\"\")\n",
    "            elif value >= 10 or value < 0:\n",
    "                print(f\"  {value}  |\", end=\"\")\n",
    "            elif value < 10:\n",
    "                print(f\"   {value}  |\", end=\"\")\n",
    "        print()\n",
    "    print(f\"{'-' * row_presentation_length}\")"
   ],
   "metadata": {
    "collapsed": false,
    "pycharm": {
     "name": "#%%\n"
    }
   }
  },
  {
   "cell_type": "markdown",
   "source": [
    "#### 5. nl (1 балл)\n",
    "\n",
    "Написать упрощенный вариант утилиты `nl` -- скрипт, который выдает в `stdout` пронумерованные строки из файла.\n",
    "\n",
    "Если файл не передан, то скрипт читает строки из `stdin`.\n",
    "\n",
    "Он должен работать так же, как `nl -b a`.\n"
   ],
   "metadata": {
    "collapsed": false
   }
  }
 ],
 "metadata": {
  "kernelspec": {
   "display_name": "Python 3",
   "language": "python",
   "name": "python3"
  },
  "language_info": {
   "codemirror_mode": {
    "name": "ipython",
    "version": 2
   },
   "file_extension": ".py",
   "mimetype": "text/x-python",
   "name": "python",
   "nbconvert_exporter": "python",
   "pygments_lexer": "ipython2",
   "version": "2.7.6"
  }
 },
 "nbformat": 4,
 "nbformat_minor": 0
}